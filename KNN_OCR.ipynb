{
 "cells": [
  {
   "cell_type": "code",
   "execution_count": 533,
   "metadata": {
    "collapsed": false
   },
   "outputs": [],
   "source": [
    "from pandas import DataFrame\n",
    "import numpy as np\n",
    "from PIL import Image\n",
    "from scipy import misc\n",
    "import matplotlib.pyplot as plt\n",
    "%matplotlib inline"
   ]
  },
  {
   "cell_type": "markdown",
   "metadata": {},
   "source": [
    "# To start our classification using KNN we need a list of the images we are going to use.\n",
    "\n",
    "This digit.txt file was generated using the linux terminal command \"ls <imagefolder> | cat>digit.txt\""
   ]
  },
  {
   "cell_type": "code",
   "execution_count": 534,
   "metadata": {
    "collapsed": false
   },
   "outputs": [],
   "source": [
    "label_file = open(\"digit.txt\",\"r\")\n",
    "labels = label_file.read().splitlines()\n",
    "label_file.close()"
   ]
  },
  {
   "cell_type": "code",
   "execution_count": 550,
   "metadata": {
    "collapsed": false
   },
   "outputs": [
    {
     "data": {
      "text/plain": [
       "True"
      ]
     },
     "execution_count": 550,
     "metadata": {},
     "output_type": "execute_result"
    }
   ],
   "source": [
    "labels = [elem for elem in labels if (elem  != \"\" and elem != \" \")] # remove any entries that are blank or spaces\n",
    "len(labels) == 1000 #check that no cleaned data has been lost"
   ]
  },
  {
   "cell_type": "code",
   "execution_count": 536,
   "metadata": {
    "collapsed": false
   },
   "outputs": [],
   "source": [
    "def pbm_to_mat(imagename):\n",
    "    filename = \"digit/\"+imagename \n",
    "    image_f = open(filename,\"r\")\n",
    "    image = image_f.read().split()\n",
    "    image_f.close()\n",
    "    del image[0:3]\n",
    "    range(len(image))\n",
    "    mat = np.asarray(list(image[0]))\n",
    "    for step in range(1,len(image)):\n",
    "        arr = np.asarray(list(image[step]))\n",
    "        arr = list(map(int, arr))\n",
    "        mat = np.vstack((mat, arr))\n",
    "    return mat"
   ]
  },
  {
   "cell_type": "code",
   "execution_count": 537,
   "metadata": {
    "collapsed": false
   },
   "outputs": [
    {
     "data": {
      "text/plain": [
       "(70, 50)"
      ]
     },
     "execution_count": 537,
     "metadata": {},
     "output_type": "execute_result"
    }
   ],
   "source": [
    "matricies = []\n",
    "for step in range(len(labels)):\n",
    "    matricies.append(pbm_to_mat(labels[step]))\n",
    "matricies = np.float_(matricies) #convert the list to a float"
   ]
  },
  {
   "cell_type": "markdown",
   "metadata": {},
   "source": [
    "# From examining the labels we know that there are 100 of each digit 0-9 in sequence. This makes labeling them super easy"
   ]
  },
  {
   "cell_type": "code",
   "execution_count": 538,
   "metadata": {
    "collapsed": false
   },
   "outputs": [
    {
     "data": {
      "text/plain": [
       "1"
      ]
     },
     "execution_count": 538,
     "metadata": {},
     "output_type": "execute_result"
    }
   ],
   "source": [
    "\n",
    "labels = (np.zeros((100),dtype=np.int)) #make the first 100 zeros so we can stack the others on top with a loop\n",
    "for x in range(1,10):\n",
    "    n = x * np.ones((100),dtype=np.int)\n",
    "    labels = np.hstack((labels,n))"
   ]
  },
  {
   "cell_type": "markdown",
   "metadata": {},
   "source": [
    "# Now we can make a function to calculate the distances of the matricies\n",
    "\n",
    "We can just calculate the distance from itself. It's just going to be trivially zero so we can ignore it"
   ]
  },
  {
   "cell_type": "code",
   "execution_count": 551,
   "metadata": {
    "collapsed": false
   },
   "outputs": [],
   "source": [
    "def euclidean_dist(instance1, instance2):\n",
    "    error = (instance1 - instance2)\n",
    "    norm = np.sum(np.dot(error.T,error))\n",
    "    return np.sqrt(norm)"
   ]
  },
  {
   "cell_type": "markdown",
   "metadata": {},
   "source": [
    "## Now to make a function that calculates all of the distances, organizes them and casts the votes as to what the algorithm thinks the digit is"
   ]
  },
  {
   "cell_type": "code",
   "execution_count": 559,
   "metadata": {
    "collapsed": false
   },
   "outputs": [],
   "source": [
    "def KNN(test,k):\n",
    "    dist_l = []\n",
    "    for i in range(len(labels)):\n",
    "        dist = (euclidean_dist(test, matricies[i]))\n",
    "        dist_l.append(dist)\n",
    "    dist_l = np.array(dist_l)\n",
    "    df = DataFrame({'distance':dist_l, 'Label':labels })\n",
    "\n",
    "    df.sort_values(by='distance')\n",
    "    ranked = df.sort_values(by='distance') #sort by distance and take the first 5 entries of df\n",
    "    ranked.drop(df.index[0]) #least distance is arbitrarily itself\n",
    "    srank = (ranked.reset_index(drop=True)) #reindex the label to rank distance\n",
    "    srank = srank.drop(srank.index[0])\n",
    "    srank = srank.drop(srank.index[range(k,len(srank.index))]) #take the top k neighbours\n",
    "\n",
    "    q = srank['Label'].value_counts()\n",
    "    pt = q.plot.bar()\n",
    "    pt.set_ylabel(\"Number of 'votes' in neighbourhood\")\n",
    "    pt.set_xlabel(\"Digit observed\")\n",
    "    return q"
   ]
  },
  {
   "cell_type": "code",
   "execution_count": 561,
   "metadata": {
    "collapsed": false
   },
   "outputs": [
    {
     "data": {
      "image/png": "[encoded data removed]",
      "text/plain": [
       "<matplotlib.figure.Figure object at 0x7f9afeeb3fd0>"
      ]
     },
     "metadata": {},
     "output_type": "display_data"
    }
   ],
   "source": [
    "l = KNN(matricies[10],5)"
   ]
  }
 ],
 "metadata": {
  "kernelspec": {
   "display_name": "Python 3",
   "language": "python",
   "name": "python3"
  },
  "language_info": {
   "codemirror_mode": {
    "name": "ipython",
    "version": 3
   },
   "file_extension": ".py",
   "mimetype": "text/x-python",
   "name": "python",
   "nbconvert_exporter": "python",
   "pygments_lexer": "ipython3",
   "version": "3.6.1"
  }
 },
 "nbformat": 4,
 "nbformat_minor": 2
}
